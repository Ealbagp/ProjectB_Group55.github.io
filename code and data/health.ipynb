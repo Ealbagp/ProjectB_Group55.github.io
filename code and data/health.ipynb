{
 "cells": [
  {
   "cell_type": "code",
   "execution_count": null,
   "id": "3a5431b4",
   "metadata": {},
   "outputs": [
    {
     "name": "stderr",
     "output_type": "stream",
     "text": [
      "BokehDeprecationWarning: 'circle() method with size value' was deprecated in Bokeh 3.4.0 and will be removed, use 'scatter(size=...) instead' instead.\n"
     ]
    },
    {
     "data": {
      "text/plain": [
       "'c:\\\\Users\\\\Eva María\\\\OneDrive - Danmarks Tekniske Universitet\\\\master\\\\1_year\\\\spring\\\\socialData\\\\finalprojectRepo\\\\ProjectB_Group55.github.io\\\\code and data\\\\asthma_pm25_cigarettes_labels_final.html'"
      ]
     },
     "execution_count": 29,
     "metadata": {},
     "output_type": "execute_result"
    }
   ],
   "source": [
    "from bokeh.plotting import figure, show, output_file, save\n",
    "from bokeh.models import HoverTool, ColumnDataSource, Slider, CustomJS, LabelSet, CheckboxButtonGroup\n",
    "from bokeh.layouts import column\n",
    "import pandas as pd\n",
    "\n",
    "asthma = pd.read_csv(\"NYC EH Data Portal - Adults with asthma (past 12 months) (full table).csv\")\n",
    "pm25 = pd.read_csv(\"NYC EH Data Portal - Fine particles (PM 2.5) (full table).csv\")\n",
    "\n",
    "asthma['Percent_clean'] = asthma['Percent'].str.extract(r'(\\d+\\.\\d+)').astype(float)\n",
    "asthma['TimePeriod'] = asthma['TimePeriod'].astype(int)\n",
    "\n",
    "pm25['Annual_mean'] = pm25['Annual mean mcg/m3']\n",
    "pm25['TimePeriod'] = pm25['TimePeriod'].astype(int)\n",
    "\n",
    "common_years = set(asthma['TimePeriod']) & set(pm25['TimePeriod'])\n",
    "\n",
    "asthma_yearly_filtered = asthma[asthma['TimePeriod'].isin(common_years)].reset_index(drop=True)\n",
    "pm25_yearly_filtered = pm25[pm25['TimePeriod'].isin(common_years)].reset_index(drop=True)\n",
    "\n",
    "asthma_yearly = asthma_yearly_filtered.groupby('TimePeriod')['Percent_clean'].mean().reset_index()\n",
    "pm25_yearly = pm25_yearly_filtered.groupby('TimePeriod')['Annual_mean'].mean().reset_index()\n",
    "\n",
    "asthma_yearly['Percent_norm'] = (asthma_yearly['Percent_clean'] - asthma_yearly['Percent_clean'].min()) / (asthma_yearly['Percent_clean'].max() - asthma_yearly['Percent_clean'].min())\n",
    "\n",
    "pm25_yearly['Cigarettes_per_day'] = pm25_yearly['Annual_mean'] / 22\n",
    "pm25_yearly['Cigarettes_per_year'] = (pm25_yearly['Cigarettes_per_day'] * 365).round(0).astype(int)\n",
    "\n",
    "source_asthma = ColumnDataSource(asthma_yearly)\n",
    "source_pm25 = ColumnDataSource(pm25_yearly)\n",
    "\n",
    "source_asthma_shifted = ColumnDataSource(data=dict(TimePeriod=asthma_yearly['TimePeriod'], Percent_norm=asthma_yearly['Percent_norm']))\n",
    "\n",
    "p = figure(title='Normalized Asthma vs PM2.5 (Cigarettes Equivalent + Labels)',\n",
    "           x_axis_label='Year',\n",
    "           y_axis_label='Normalized Asthma (0-1) / PM2.5 as Cigarettes/day',\n",
    "           width=900, height=500,\n",
    "           tools='pan,wheel_zoom,box_zoom,reset,save')\n",
    "\n",
    "bars_pm25 = p.vbar(x='TimePeriod', top='Cigarettes_per_day', source=source_pm25,\n",
    "                   width=0.8, color='#9467bd', legend_label='PM2.5 (Cigarettes/day)', alpha=0.6)\n",
    "\n",
    "labels = LabelSet(x='TimePeriod', y='Cigarettes_per_day', text='Cigarettes_per_year',\n",
    "                  level='glyph', x_offset=-13, y_offset=3, source=source_pm25,\n",
    "                  text_font_size=\"10pt\", text_color=\"#000000\",\n",
    "                  background_fill_color='white', background_fill_alpha=0.6,\n",
    "                  visible=True)\n",
    "p.add_layout(labels)\n",
    "\n",
    "line1 = p.line('TimePeriod', 'Percent_norm', source=source_asthma_shifted, color='#ff7f0e', legend_label='Asthma (Normalized)', line_width=3)\n",
    "circle1 = p.circle('TimePeriod', 'Percent_norm', source=source_asthma_shifted, color='#ff7f0e', size=8)\n",
    "\n",
    "hover_asthma = HoverTool(tooltips=[('Year', '@TimePeriod'), ('Asthma Value (normalized)', '@Percent_norm{0.00}')], renderers=[line1, circle1])\n",
    "hover_pm25 = HoverTool(tooltips=[('Year', '@TimePeriod'), ('PM2.5 (µg/m³)', '@Annual_mean{0.0}'), ('Cigarettes/day', '@Cigarettes_per_day{0.00}')], renderers=[bars_pm25])\n",
    "p.add_tools(hover_asthma, hover_pm25)\n",
    "\n",
    "p.legend.click_policy = \"hide\"\n",
    "\n",
    "label_toggle = CheckboxButtonGroup(labels=[\"Show Cigarettes/year Labels\"], active=[0])\n",
    "callback_label = CustomJS(args=dict(labels=labels, button=label_toggle), code=\"\"\"\n",
    "    labels.visible = button.active.includes(0);\n",
    "\"\"\")\n",
    "label_toggle.js_on_change('active', callback_label)\n",
    "\n",
    "shift_slider = Slider(start=-10, end=10, value=0, step=1, title=\"Shift Asthma Curve (Years)\")\n",
    "callback = CustomJS(args=dict(source=source_asthma_shifted, slider=shift_slider,\n",
    "                               original_x=asthma_yearly['TimePeriod'].tolist(),\n",
    "                               original_y=asthma_yearly['Percent_norm'].tolist()), code=\"\"\" \n",
    "    const data = source.data;\n",
    "    const shift = slider.value;\n",
    "    const x = original_x;\n",
    "    const y = original_y;\n",
    "    const new_x = [];\n",
    "    for (let i = 0; i < x.length; i++) {\n",
    "        new_x.push(x[i] + shift);\n",
    "    }\n",
    "    data['TimePeriod'] = new_x;\n",
    "    source.change.emit();\n",
    "\"\"\")\n",
    "shift_slider.js_on_change('value', callback)\n",
    "\n",
    "output_file(\"asthma_pm25_cigarettes_labels_final.html\", title=\"Asthma vs PM2.5 (Cigarettes Equivalent + Labels)\")\n",
    "\n",
    "save(column(p, shift_slider, label_toggle))\n"
   ]
  }
 ],
 "metadata": {
  "kernelspec": {
   "display_name": "Python 3",
   "language": "python",
   "name": "python3"
  },
  "language_info": {
   "codemirror_mode": {
    "name": "ipython",
    "version": 3
   },
   "file_extension": ".py",
   "mimetype": "text/x-python",
   "name": "python",
   "nbconvert_exporter": "python",
   "pygments_lexer": "ipython3",
   "version": "3.12.9"
  }
 },
 "nbformat": 4,
 "nbformat_minor": 5
}
