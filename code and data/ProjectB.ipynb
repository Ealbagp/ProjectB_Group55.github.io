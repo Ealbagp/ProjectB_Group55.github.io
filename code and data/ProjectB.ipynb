{
 "cells": [
  {
   "cell_type": "markdown",
   "id": "c795f53c",
   "metadata": {},
   "source": [
    "# **Project Assignment B:**  \n",
    "This notebook contains the solutions for **Project Assignment B** of the course **02806 Social Data Analysis and Visualization**. It serves as an explainer Jupyter Notebook, documenting all behind-the-scenes data analysis processes. The content includes detailed information about the dataset, the applied methodology, the reasoning behind the selected visualizations, and explanations of the techniques and decisions made throughout the project.\n",
    "\n",
    "#### **Authors** \n",
    "- *María Eva Benito -*  \n",
    "- *Alba Gonzalo Primo - s243343*   \n",
    "- *Camilla Santoro - s232441*  \n",
    "\n",
    "#### **Date**  \n",
    "*05/05/2025* "
   ]
  },
  {
   "cell_type": "markdown",
   "id": "5d26ffbf",
   "metadata": {},
   "source": [
    "---\n",
    "## **Section 1: Motivation**  \n",
    "---"
   ]
  },
  {
   "cell_type": "markdown",
   "id": "ca23c04a",
   "metadata": {},
   "source": [
    "Our project uses two datasets provided by the NYC Government. The first dataset contains historical PM2.5 air pollution data from 2009 to 2023, including annual, summer, and winter mean concentrations, with a total of 1,863 records. The second dataset provides public health data on asthma-related emergency department visits and hospitalizations from 2003 to 2022, consisting of 760 records across eight variables.\n",
    "\n",
    "Both datasets include detailed geographical and temporal information, which allows for fine-grained analysis across New York City. The air quality data is reported at the Community District (CD) level, offering local precision with annual and seasonal pollution averages. The health data, on the other hand, is aggregated at the United Hospital Fund (UHF) neighborhood level, slightly broader than community districts, and includes age-adjusted percentages, raw percentages, and estimated case numbers.\n",
    "\n",
    "\n",
    "We selected these datasets due to their complementary structures, which enable us to extract meaningful spatial and temporal insights. This combination allows us to examine key trends at the intersection of public health and environmental conditions. Specifically, we focus on asthma, a chronic disease significantly influenced by air pollution. By merging air quality and health data, we can conduct a comprehensive analysis of how PM2.5 pollution affects asthma rates over time and across various communities. Furthermore, the detailed granularity at both district and neighborhood levels enables us to assess whether vulnerable or marginalized populations experience a disproportionate impact, as well as whether public policy measures implemented during the study period had a measurable effect.\n",
    "\n",
    "\n",
    "Our goal for the end user's experience was to guide them through a compelling narrative that illustrates the strong connection between pollution and asthma rates. Using New York City, a major urban center, as a key example, we aimed to highlight how environmental factors directly impact public health, particularly through pollution-induced asthma. By presenting real-world data in an accessible and engaging manner, we wanted users to recognize patterns, understand the social and geographical disparities, and critically assess the effectiveness of past public policies. Through clear explanations and interactive data exploration, our intention was not only for users to absorb key findings, but also to empower them to independently explore the data, uncover insights, and develop a deeper, more informed understanding of the broader implications of environmental health issues on urban communities."
   ]
  },
  {
   "cell_type": "markdown",
   "id": "117ec5dc",
   "metadata": {},
   "source": [
    "---\n",
    "## **Section 2: Basic stats. Let's understand the dataset better**  \n",
    "---"
   ]
  },
  {
   "cell_type": "markdown",
   "id": "3a65bc25",
   "metadata": {},
   "source": [
    "---\n",
    "## **Section 3: Data Analysis**  \n",
    "---"
   ]
  },
  {
   "cell_type": "markdown",
   "id": "fdc5d9c5",
   "metadata": {},
   "source": [
    "---\n",
    "## **Section 4: Genre. Which genre of data story did you use?**  \n",
    "---"
   ]
  },
  {
   "cell_type": "markdown",
   "id": "9f01ca70",
   "metadata": {},
   "source": [
    "For this project, we chose a slideshow-style narrative. This format structures the content into clear, digestible sections, effectively guiding the audience through our story with the use of visual aids to highlight key findings. Additionally, the incorporation of interactive graphs encourages the audience to explore the data further on their own, reinforcing the findings we present and allowing them to draw their own more detailed conclusions.\n",
    "\n"
   ]
  },
  {
   "cell_type": "markdown",
   "id": "acbac3e1",
   "metadata": {},
   "source": [
    "---\n",
    "## **Section 5: Visualizations**  \n",
    "---"
   ]
  },
  {
   "cell_type": "markdown",
   "id": "8aea7e3b",
   "metadata": {},
   "source": [
    "---\n",
    "## **Section 6: Discussion**  \n",
    "---"
   ]
  },
  {
   "cell_type": "markdown",
   "id": "2ed1f5b2",
   "metadata": {},
   "source": [
    "---\n",
    "## **Contributions**  \n",
    "---"
   ]
  },
  {
   "cell_type": "markdown",
   "id": "0391e541",
   "metadata": {},
   "source": [
    "---\n",
    "## **References**  \n",
    "---"
   ]
  }
 ],
 "metadata": {
  "language_info": {
   "name": "python"
  }
 },
 "nbformat": 4,
 "nbformat_minor": 5
}
